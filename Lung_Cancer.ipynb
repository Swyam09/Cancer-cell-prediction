{
  "nbformat": 4,
  "nbformat_minor": 0,
  "metadata": {
    "colab": {
      "name": "Lung Cancer.ipynb",
      "provenance": []
    },
    "kernelspec": {
      "name": "python3",
      "display_name": "Python 3"
    }
  },
  "cells": [
    {
      "cell_type": "code",
      "metadata": {
        "id": "ZXoO7XPa1h0N"
      },
      "source": [
        "#Importing libraries\n",
        "import numpy as np\n",
        "import pandas as pd\n",
        "import matplotlib.pyplot as plt\n",
        "import seaborn as sns\n",
        "import warnings\n",
        "warnings.filterwarnings('ignore')"
      ],
      "execution_count": 1,
      "outputs": []
    },
    {
      "cell_type": "code",
      "metadata": {
        "id": "kQ3LlbbI11I-"
      },
      "source": [
        "#Loading data into dataframe(df)\n",
        "df=pd.read_csv('Lung_cancer_data.csv')"
      ],
      "execution_count": 2,
      "outputs": []
    },
    {
      "cell_type": "code",
      "metadata": {
        "id": "BPMRyORA129S",
        "colab": {
          "base_uri": "https://localhost:8080/"
        },
        "outputId": "9c7f706d-a9ea-4af4-b722-31cd136534c6"
      },
      "source": [
        "print(df.head(10))#Print all data of top 10 rows\n",
        "print(df.shape)#Print the row and clumn count of the data\n",
        "print(df.isna().sum())#Print all columns with empty data along with sum of empty data"
      ],
      "execution_count": 3,
      "outputs": [
        {
          "output_type": "stream",
          "text": [
            "   class  attribute2  attribute3  ...  attribute55  attribute56  attribute57\n",
            "0      1           0           3  ...            1            2            2\n",
            "1      1           0           3  ...            1            2            2\n",
            "2      1           0           3  ...            2            1            2\n",
            "3      1           0           2  ...            2            2            2\n",
            "4      1           0           3  ...            1            2            2\n",
            "5      1           0           3  ...            2            1            2\n",
            "6      1           0           3  ...            2            1            2\n",
            "7      1           0           2  ...            1            2            2\n",
            "8      1           0           3  ...            1            2            2\n",
            "9      2           0           2  ...            1            2            2\n",
            "\n",
            "[10 rows x 57 columns]\n",
            "(32, 57)\n",
            "class          0\n",
            "attribute2     0\n",
            "attribute3     0\n",
            "attribute4     0\n",
            "attribute5     4\n",
            "attribute6     0\n",
            "attribute7     0\n",
            "attribute8     0\n",
            "attribute9     0\n",
            "attribute10    0\n",
            "attribute11    0\n",
            "attribute12    0\n",
            "attribute13    0\n",
            "attribute14    0\n",
            "attribute15    0\n",
            "attribute16    0\n",
            "attribute17    0\n",
            "attribute18    0\n",
            "attribute19    0\n",
            "attribute20    0\n",
            "attribute21    0\n",
            "attribute22    0\n",
            "attribute23    0\n",
            "attribute24    0\n",
            "attribute25    0\n",
            "attribute26    0\n",
            "attribute27    0\n",
            "attribute28    0\n",
            "attribute29    0\n",
            "attribute30    0\n",
            "attribute31    0\n",
            "attribute32    0\n",
            "attribute33    0\n",
            "attribute34    0\n",
            "attribute35    0\n",
            "attribute36    0\n",
            "attribute37    0\n",
            "attribute38    0\n",
            "attribute39    1\n",
            "attribute40    0\n",
            "attribute41    0\n",
            "attribute42    0\n",
            "attribute43    0\n",
            "attribute44    0\n",
            "attribute45    0\n",
            "attribute46    0\n",
            "attribute47    0\n",
            "attribute48    0\n",
            "attribute49    0\n",
            "attribute50    0\n",
            "attribute51    0\n",
            "attribute52    0\n",
            "attribute53    0\n",
            "attribute54    0\n",
            "attribute55    0\n",
            "attribute56    0\n",
            "attribute57    0\n",
            "dtype: int64\n"
          ],
          "name": "stdout"
        }
      ]
    },
    {
      "cell_type": "code",
      "metadata": {
        "id": "ogOhbguT16Ln",
        "colab": {
          "base_uri": "https://localhost:8080/"
        },
        "outputId": "79d03e64-1345-49d2-9942-130e2953fc6c"
      },
      "source": [
        "df=df.dropna(axis=1)#Drop the column with empty data\n",
        "print(df.iloc[:,0].value_counts())#Visualize the data of diagnosis column with y label counts\n",
        "print(df.dtypes)#Data type of data in each column"
      ],
      "execution_count": 4,
      "outputs": [
        {
          "output_type": "stream",
          "text": [
            "2    13\n",
            "3    10\n",
            "1     9\n",
            "Name: class, dtype: int64\n",
            "class          int64\n",
            "attribute2     int64\n",
            "attribute3     int64\n",
            "attribute4     int64\n",
            "attribute6     int64\n",
            "attribute7     int64\n",
            "attribute8     int64\n",
            "attribute9     int64\n",
            "attribute10    int64\n",
            "attribute11    int64\n",
            "attribute12    int64\n",
            "attribute13    int64\n",
            "attribute14    int64\n",
            "attribute15    int64\n",
            "attribute16    int64\n",
            "attribute17    int64\n",
            "attribute18    int64\n",
            "attribute19    int64\n",
            "attribute20    int64\n",
            "attribute21    int64\n",
            "attribute22    int64\n",
            "attribute23    int64\n",
            "attribute24    int64\n",
            "attribute25    int64\n",
            "attribute26    int64\n",
            "attribute27    int64\n",
            "attribute28    int64\n",
            "attribute29    int64\n",
            "attribute30    int64\n",
            "attribute31    int64\n",
            "attribute32    int64\n",
            "attribute33    int64\n",
            "attribute34    int64\n",
            "attribute35    int64\n",
            "attribute36    int64\n",
            "attribute37    int64\n",
            "attribute38    int64\n",
            "attribute40    int64\n",
            "attribute41    int64\n",
            "attribute42    int64\n",
            "attribute43    int64\n",
            "attribute44    int64\n",
            "attribute45    int64\n",
            "attribute46    int64\n",
            "attribute47    int64\n",
            "attribute48    int64\n",
            "attribute49    int64\n",
            "attribute50    int64\n",
            "attribute51    int64\n",
            "attribute52    int64\n",
            "attribute53    int64\n",
            "attribute54    int64\n",
            "attribute55    int64\n",
            "attribute56    int64\n",
            "attribute57    int64\n",
            "dtype: object\n"
          ],
          "name": "stdout"
        }
      ]
    },
    {
      "cell_type": "code",
      "metadata": {
        "id": "BZ6UeNGJ2Abw"
      },
      "source": [
        "#Splitting data for dependence\n",
        "X=df.iloc[:,1:].values#Features of cancerous and non cancerous patients\n",
        "Y=df.iloc[:,0].values#Whether patient has cancer or not"
      ],
      "execution_count": 5,
      "outputs": []
    },
    {
      "cell_type": "code",
      "metadata": {
        "id": "tFKZQnYI24EW"
      },
      "source": [
        "#Train test split\n",
        "from sklearn.model_selection import train_test_split\n",
        "X_train,X_test,Y_train,Y_test=train_test_split(X,Y,test_size=0.25,random_state=0)"
      ],
      "execution_count": 6,
      "outputs": []
    },
    {
      "cell_type": "code",
      "metadata": {
        "id": "nW-6qI-s2LcG"
      },
      "source": [
        "from sklearn.preprocessing import StandardScaler\n",
        "sc=StandardScaler()\n",
        "X_train=sc.fit_transform(X_train)#Scaling X_train\n",
        "X_test=sc.fit_transform(X_test)#Scaling X_test"
      ],
      "execution_count": 7,
      "outputs": []
    },
    {
      "cell_type": "code",
      "metadata": {
        "id": "5MXlUVQz2Oxp"
      },
      "source": [
        "#Function for  different models\n",
        "def models(X_train,Y_train):\n",
        "\n",
        "    #Logistic regression\n",
        "    from sklearn.linear_model import LogisticRegression\n",
        "    log=LogisticRegression(random_state=0)\n",
        "    log.fit(X_train,Y_train)\n",
        "\n",
        "    #Decision tree\n",
        "    from sklearn.tree import DecisionTreeClassifier\n",
        "    tree=DecisionTreeClassifier(criterion='entropy',random_state=0)\n",
        "    tree.fit(X_train,Y_train)\n",
        "\n",
        "    #Random forest classifier\n",
        "    from sklearn.ensemble import RandomForestClassifier\n",
        "    forest=RandomForestClassifier(n_estimators=10,criterion='entropy',random_state=0)\n",
        "    forest.fit(X_train,Y_train)\n",
        "\n",
        "    #GaussianNB\n",
        "    from sklearn.naive_bayes import GaussianNB\n",
        "    gnb = GaussianNB()\n",
        "    gnb.fit(X_train,Y_train)\n",
        "\n",
        "    #Printing accuracy\n",
        "    print(\"Logistic regression:\",log.score(X_train,Y_train))\n",
        "    print(\"Decision Tree:\",tree.score(X_train,Y_train))\n",
        "    print(\"Random Forest:\",forest.score(X_train,Y_train))\n",
        "    print(\"GaussianNB:\",gnb.score(X_train,Y_train))\n",
        "    return log,tree,forest,gnb"
      ],
      "execution_count": 8,
      "outputs": []
    },
    {
      "cell_type": "code",
      "metadata": {
        "id": "NIf2pKv12SQS",
        "colab": {
          "base_uri": "https://localhost:8080/"
        },
        "outputId": "5bfef293-0545-439d-fc81-f808f3f0b823"
      },
      "source": [
        "#Testing Function for all models\n",
        "print(\"Accuracy\")\n",
        "model=models(X_train,Y_train)"
      ],
      "execution_count": 9,
      "outputs": [
        {
          "output_type": "stream",
          "text": [
            "Accuracy\n",
            "Logistic regression: 1.0\n",
            "Decision Tree: 1.0\n",
            "Random Forest: 1.0\n",
            "GaussianNB: 0.7083333333333334\n"
          ],
          "name": "stdout"
        }
      ]
    },
    {
      "cell_type": "code",
      "metadata": {
        "id": "2wJtkP-l2UmC",
        "colab": {
          "base_uri": "https://localhost:8080/"
        },
        "outputId": "516210f1-a46e-40b3-934d-290472577bba"
      },
      "source": [
        "#Metrics of the models\n",
        "from sklearn.metrics import classification_report\n",
        "from sklearn.metrics import accuracy_score\n",
        "for i in range(len(model)):\n",
        "    print(\"\\nModel\",i+1)\n",
        "    print(\"Classification Report\")\n",
        "    print(classification_report(Y_test,model[i].predict(X_test)))\n",
        "    print(\"Accuracy Score:\",accuracy_score(Y_test,model[i].predict(X_test)))"
      ],
      "execution_count": 10,
      "outputs": [
        {
          "output_type": "stream",
          "text": [
            "\n",
            "Model 1\n",
            "Classification Report\n",
            "              precision    recall  f1-score   support\n",
            "\n",
            "           1       0.00      0.00      0.00         1\n",
            "           2       0.50      0.50      0.50         4\n",
            "           3       0.50      0.33      0.40         3\n",
            "\n",
            "    accuracy                           0.38         8\n",
            "   macro avg       0.33      0.28      0.30         8\n",
            "weighted avg       0.44      0.38      0.40         8\n",
            "\n",
            "Accuracy Score: 0.375\n",
            "\n",
            "Model 2\n",
            "Classification Report\n",
            "              precision    recall  f1-score   support\n",
            "\n",
            "           1       0.00      0.00      0.00         1\n",
            "           2       0.75      0.75      0.75         4\n",
            "           3       0.75      1.00      0.86         3\n",
            "\n",
            "    accuracy                           0.75         8\n",
            "   macro avg       0.50      0.58      0.54         8\n",
            "weighted avg       0.66      0.75      0.70         8\n",
            "\n",
            "Accuracy Score: 0.75\n",
            "\n",
            "Model 3\n",
            "Classification Report\n",
            "              precision    recall  f1-score   support\n",
            "\n",
            "           1       0.50      1.00      0.67         1\n",
            "           2       0.33      0.25      0.29         4\n",
            "           3       0.33      0.33      0.33         3\n",
            "\n",
            "    accuracy                           0.38         8\n",
            "   macro avg       0.39      0.53      0.43         8\n",
            "weighted avg       0.35      0.38      0.35         8\n",
            "\n",
            "Accuracy Score: 0.375\n",
            "\n",
            "Model 4\n",
            "Classification Report\n",
            "              precision    recall  f1-score   support\n",
            "\n",
            "           1       0.00      0.00      0.00         1\n",
            "           2       1.00      0.75      0.86         4\n",
            "           3       0.75      1.00      0.86         3\n",
            "\n",
            "    accuracy                           0.75         8\n",
            "   macro avg       0.58      0.58      0.57         8\n",
            "weighted avg       0.78      0.75      0.75         8\n",
            "\n",
            "Accuracy Score: 0.75\n"
          ],
          "name": "stdout"
        }
      ]
    }
  ]
}