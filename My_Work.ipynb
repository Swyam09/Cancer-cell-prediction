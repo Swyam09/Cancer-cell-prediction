{
  "nbformat": 4,
  "nbformat_minor": 0,
  "metadata": {
    "colab": {
      "name": "My Work.ipynb",
      "provenance": []
    },
    "kernelspec": {
      "name": "python3",
      "display_name": "Python 3"
    }
  },
  "cells": [
    {
      "cell_type": "code",
      "metadata": {
        "id": "EfsVFKRwTgpK"
      },
      "source": [
        "#Importing libraries\n",
        "import numpy as np\n",
        "import pandas as pd\n",
        "import matplotlib.pyplot as plt\n",
        "import seaborn as sns\n",
        "import random"
      ],
      "execution_count": 1,
      "outputs": []
    },
    {
      "cell_type": "code",
      "metadata": {
        "colab": {
          "base_uri": "https://localhost:8080/"
        },
        "id": "mhMH8OWfTzoa",
        "outputId": "b4c02e3f-7e5f-4ae3-80f0-317216612911"
      },
      "source": [
        "#Asking for file name input and loading datd into dataframe(df)\n",
        "while True:\n",
        "    name=input('Enter dataset name:')\n",
        "    if name[-4:]!='.csv':\n",
        "        print(\"Enter valid file name in .csv format!\")\n",
        "    else:\n",
        "        try:\n",
        "            df=pd.read_csv(name)\n",
        "            break\n",
        "        except FileNotFoundError:\n",
        "            print(\"File doesn't exist! Enter valid file name.\")"
      ],
      "execution_count": 2,
      "outputs": [
        {
          "output_type": "stream",
          "text": [
            "Enter dataset name:Lung_cancer_data.csv\n"
          ],
          "name": "stdout"
        }
      ]
    },
    {
      "cell_type": "code",
      "metadata": {
        "id": "2l4DfUNMT7If"
      },
      "source": [
        "#Dropping extra,incompliable and empty columns\n",
        "df=df.dropna(axis=1)\n",
        "if name==('Breast_cancer_data.csv') or name==('Prostate_cancer_data.csv'):\n",
        "    df=df.drop(['id'],axis=1)\n"
      ],
      "execution_count": 3,
      "outputs": []
    },
    {
      "cell_type": "code",
      "metadata": {
        "id": "WB1_XeyUT9wi"
      },
      "source": [
        "#Convert first column to numbers\n",
        "from sklearn.preprocessing import LabelEncoder\n",
        "labelencoder_X=LabelEncoder()\n",
        "df.iloc[:,0]=labelencoder_X.fit_transform(df.iloc[:,0].values)\n",
        "\n",
        "tst_size=0.25\n"
      ],
      "execution_count": 4,
      "outputs": []
    },
    {
      "cell_type": "code",
      "metadata": {
        "id": "KW3aYk6EUBf1"
      },
      "source": [
        "#Splitting data for dependence\n",
        "X=df.iloc[:,1:].values\n",
        "Y=df.iloc[:,0].values\n"
      ],
      "execution_count": 5,
      "outputs": []
    },
    {
      "cell_type": "code",
      "metadata": {
        "id": "5g7wTlJsUDJ1"
      },
      "source": [
        "#Train-Test split\n",
        "from sklearn.model_selection import train_test_split\n",
        "X_train,X_test,Y_train,Y_test=train_test_split(X,Y,test_size=tst_size,random_state=0)\n"
      ],
      "execution_count": 6,
      "outputs": []
    },
    {
      "cell_type": "code",
      "metadata": {
        "id": "nX1_5PBrUFct"
      },
      "source": [
        "#Declaring an 2D-array\n",
        "rows,cols=(int(len(df)-tst_size*len(df)),int(len(df.iloc[0,:])))\n",
        "arr=np.array([[0.0]*cols]*rows)\n",
        "test=np.array([[0.0]*cols]*(int(len(X_test))))\n"
      ],
      "execution_count": 7,
      "outputs": []
    },
    {
      "cell_type": "code",
      "metadata": {
        "id": "E-HqwoovUHR-"
      },
      "source": [
        "#Giving values in 2D-array\n",
        "for i in range(len(X_train)):\n",
        "    for j in range(int(len(df.iloc[0,:]))):\n",
        "        if j==0:\n",
        "            arr[i][j]=Y_train[i]\n",
        "        else:\n",
        "            arr[i][j]=X_train[i][j-1]\n",
        "\n",
        "for i in range(len(X_test)):\n",
        "    for j in range(len(df.iloc[0,:])):\n",
        "        if j==0:\n",
        "            test[i][j]=Y_test[i]\n",
        "        else:\n",
        "            test[i][j]=X_test[i][j-1]\n",
        "uniqueValues=df.iloc[:,0].unique()"
      ],
      "execution_count": 8,
      "outputs": []
    },
    {
      "cell_type": "code",
      "metadata": {
        "id": "Wv7UUsogUJ-7"
      },
      "source": [
        "#Declaring a 3D-list\n",
        "lst=np.array([[[-1.0 for k in range(2)]for j in range(int(len(df.iloc[0,:])))]for i in range(len(uniqueValues))])\n",
        "#Counters\n",
        "lst_count=-1\n",
        "flag=0\n",
        "found=0\n"
      ],
      "execution_count": 9,
      "outputs": []
    },
    {
      "cell_type": "code",
      "metadata": {
        "id": "81mVZN1CUPHi"
      },
      "source": [
        "#Function to determine whether entry exits or not\n",
        "def notexist(arn,lst_count):\n",
        "    for i in range(len(arn)):\n",
        "        lst[lst_count][i][0]=arn[i]\n",
        "\n",
        "\n",
        "for i in range(len(arr)):\n",
        "    for j in range(len(lst)):\n",
        "        if lst[j][0][0]!=arr[i][0]:\n",
        "            flag+=1\n",
        "            if flag==len(lst):\n",
        "                lst_count+=1\n",
        "                notexist(arr[i][:],lst_count)\n",
        "        elif lst[j][0][0]==arr[i][0]:\n",
        "            if lst[j][0][1]==-1:\n",
        "                for k in range(len(df.iloc[0,:])):\n",
        "                    lst[j][k][1]=arr[i][k]\n",
        "            else:\n",
        "                for k in range(len(df.iloc[0,:])):\n",
        "                    lst[j][k][0]=max(lst[j][k][0],lst[j][k][1],arr[i][k])\n",
        "                    lst[j][k][1]=min(lst[j][k][0],lst[j][k][1],arr[i][k])\n",
        "    flag=0\n"
      ],
      "execution_count": 10,
      "outputs": []
    },
    {
      "cell_type": "code",
      "metadata": {
        "colab": {
          "base_uri": "https://localhost:8080/"
        },
        "id": "biKRDVlXUXaS",
        "outputId": "0e4e8f4a-df43-4020-cdc4-813b544c0adf"
      },
      "source": [
        "def testfunc(tst_arr):\n",
        "    flag_new=0\n",
        "    count=1\n",
        "    ran=[]\n",
        "    d={lst[i][0][0]:0 for i in range(len(lst))}\n",
        "    for i in range(1,len(df.iloc[0,:])):\n",
        "        for k in range(len(lst)):\n",
        "           if (tst_arr[i] >= lst[k][i][1] and tst_arr[i] <= lst[k][i][0]):\n",
        "                d[lst[k][0][0]]+=1\n",
        "    for i in range(1,len(df.iloc[0,:])):\n",
        "        for k in range(len(arr)):\n",
        "            if tst_arr[i]==arr[k][i]:\n",
        "                d[arr[k][0]]+=1\n",
        "    d=dict(sorted(d.items(),reverse = True))\n",
        "    while(flag_new==0):\n",
        "        key=0.0\n",
        "        max_val=-1.0\n",
        "        for k,v in d.items():\n",
        "            if v>max_val:\n",
        "                key=k\n",
        "                max_val=v\n",
        "                flag_new-=1\n",
        "            elif v==max_val:\n",
        "                count-=1\n",
        "                for i in range(1,len(df.iloc[0,:])):\n",
        "                    for j in range(len(lst)):\n",
        "                        if (tst_arr[i] > lst[j][i][1] and tst_arr[i] < lst[j][i][0]):\n",
        "                            d[lst[j][0][0]]+=1\n",
        "                flag_new=count\n",
        "                break\n",
        "            else:\n",
        "                break\n",
        "    d=dict(sorted(d.items(),reverse = True))\n",
        "    if count<0:\n",
        "        for k,v in d.items():\n",
        "            if d[next(iter(d))]==v:\n",
        "                ran.append(k)\n",
        "            else:\n",
        "                break\n",
        "        return random.choice(ran)\n",
        "    else:\n",
        "        return key\n",
        "ans=[]\n",
        "crct=0\n",
        "for i in range(len(test)):\n",
        "    for j in range(len(arr)):\n",
        "        for k in range(1,len(df.iloc[0,:])):\n",
        "            if round(test[i][k],5)==round(arr[j][k],5):\n",
        "                found+=1\n",
        "            else:\n",
        "                found=0\n",
        "                break\n",
        "        if found>=7:\n",
        "            ans.append(int(arr[j][0]))\n",
        "\n",
        "            break\n",
        "    if found<7:\n",
        "        ans.append(testfunc(test[i][:]))\n",
        "for i in range(len(ans)):\n",
        "    if Y_test[i]==ans[i]:\n",
        "        crct+=1\n",
        "print(\"Accuracy is :\",(crct/len(ans))*100)"
      ],
      "execution_count": 11,
      "outputs": [
        {
          "output_type": "stream",
          "text": [
            "Accuracy is : 62.5\n"
          ],
          "name": "stdout"
        }
      ]
    }
  ]
}